{
 "cells": [
  {
   "cell_type": "code",
   "execution_count": 26,
   "metadata": {},
   "outputs": [],
   "source": [
    "import numpy as np\n",
    "import pandas as pd\n",
    "import matplotlib.pyplot as plt\n",
    "import seaborn as sns\n",
    "import os\n",
    "from PIL import Image"
   ]
  },
  {
   "cell_type": "code",
   "execution_count": 18,
   "metadata": {},
   "outputs": [
    {
     "name": "stdout",
     "output_type": "stream",
     "text": [
      "Width: 640, Height: 640\n"
     ]
    }
   ],
   "source": [
    "train_annotations_path = 'Fruits-detection\\\\train\\labels'\n",
    "train_images_path = 'Fruits-detection\\\\train\\images'\n",
    "\n",
    "with Image.open(os.path.join(train_images_path, '0a2bfef3b22f77b6_jpg.rf.1a02b2e598332c6a99dda6d89eda1f9c.jpg')) as img:\n",
    "    # Get the width and height\n",
    "    WIDTH, HEIGHT = img.size\n",
    "\n",
    "    print(f\"Width: {WIDTH}, Height: {HEIGHT}\")"
   ]
  },
  {
   "cell_type": "code",
   "execution_count": 21,
   "metadata": {},
   "outputs": [],
   "source": [
    "data = []\n",
    "id = 1\n",
    "for label_file in os.listdir(train_annotations_path):\n",
    "    \n",
    "\tlabel_file_name = label_file[:-4]\n",
    "\tlabel_file_path = os.path.join(train_annotations_path, label_file)\n",
    "\twith open(label_file_path, 'r') as f:\n",
    "\t\tlines = f.readlines()\n",
    "        \n",
    "\tdata.append(\n",
    "\t\t{'image_id': id,\n",
    "\t\t'file_name': label_file_name,\n",
    "\t\t'#bbox': len(lines),\n",
    "\t\t'width': WIDTH,\n",
    "\t\t'height': HEIGHT\n",
    "\t\t}\n",
    "\t)\n",
    "\tid += 1\n",
    "\t\n",
    "\n",
    "df = pd.DataFrame(data)"
   ]
  },
  {
   "cell_type": "code",
   "execution_count": 22,
   "metadata": {},
   "outputs": [
    {
     "data": {
      "text/html": [
       "<div>\n",
       "<style scoped>\n",
       "    .dataframe tbody tr th:only-of-type {\n",
       "        vertical-align: middle;\n",
       "    }\n",
       "\n",
       "    .dataframe tbody tr th {\n",
       "        vertical-align: top;\n",
       "    }\n",
       "\n",
       "    .dataframe thead th {\n",
       "        text-align: right;\n",
       "    }\n",
       "</style>\n",
       "<table border=\"1\" class=\"dataframe\">\n",
       "  <thead>\n",
       "    <tr style=\"text-align: right;\">\n",
       "      <th></th>\n",
       "      <th>image_id</th>\n",
       "      <th>file_name</th>\n",
       "      <th>#bbox</th>\n",
       "      <th>width</th>\n",
       "      <th>height</th>\n",
       "    </tr>\n",
       "  </thead>\n",
       "  <tbody>\n",
       "    <tr>\n",
       "      <th>0</th>\n",
       "      <td>1</td>\n",
       "      <td>0000a16e4b057580_jpg.rf.00ab48988370f64f5ca8ea...</td>\n",
       "      <td>7</td>\n",
       "      <td>640</td>\n",
       "      <td>640</td>\n",
       "    </tr>\n",
       "    <tr>\n",
       "      <th>1</th>\n",
       "      <td>2</td>\n",
       "      <td>0000a16e4b057580_jpg.rf.7e6dce029fb67f01eb19aa...</td>\n",
       "      <td>7</td>\n",
       "      <td>640</td>\n",
       "      <td>640</td>\n",
       "    </tr>\n",
       "    <tr>\n",
       "      <th>2</th>\n",
       "      <td>3</td>\n",
       "      <td>0000a16e4b057580_jpg.rf.bc4d31cdcbe229dd022957...</td>\n",
       "      <td>7</td>\n",
       "      <td>640</td>\n",
       "      <td>640</td>\n",
       "    </tr>\n",
       "    <tr>\n",
       "      <th>3</th>\n",
       "      <td>4</td>\n",
       "      <td>00020ebf74c4881c_jpg.rf.508192a0a97aa6c4a3b688...</td>\n",
       "      <td>1</td>\n",
       "      <td>640</td>\n",
       "      <td>640</td>\n",
       "    </tr>\n",
       "    <tr>\n",
       "      <th>4</th>\n",
       "      <td>5</td>\n",
       "      <td>00020ebf74c4881c_jpg.rf.5af192a2254c8ecc4188a2...</td>\n",
       "      <td>1</td>\n",
       "      <td>640</td>\n",
       "      <td>640</td>\n",
       "    </tr>\n",
       "    <tr>\n",
       "      <th>...</th>\n",
       "      <td>...</td>\n",
       "      <td>...</td>\n",
       "      <td>...</td>\n",
       "      <td>...</td>\n",
       "      <td>...</td>\n",
       "    </tr>\n",
       "    <tr>\n",
       "      <th>7103</th>\n",
       "      <td>7104</td>\n",
       "      <td>ff26ee5c7c27064d_jpg.rf.e68f37ca906de06c7f72de...</td>\n",
       "      <td>1</td>\n",
       "      <td>640</td>\n",
       "      <td>640</td>\n",
       "    </tr>\n",
       "    <tr>\n",
       "      <th>7104</th>\n",
       "      <td>7105</td>\n",
       "      <td>ff4cd45896de38be_jpg.rf.c4b5e967ca10c7ced3b9e9...</td>\n",
       "      <td>2</td>\n",
       "      <td>640</td>\n",
       "      <td>640</td>\n",
       "    </tr>\n",
       "    <tr>\n",
       "      <th>7105</th>\n",
       "      <td>7106</td>\n",
       "      <td>ff4cd45896de38be_jpg.rf.ea4c1d37d2884b3e3cbce0...</td>\n",
       "      <td>2</td>\n",
       "      <td>640</td>\n",
       "      <td>640</td>\n",
       "    </tr>\n",
       "    <tr>\n",
       "      <th>7106</th>\n",
       "      <td>7107</td>\n",
       "      <td>ff5fd9c3c624b7dc_jpg.rf.bb519feaa36fc4bf630a03...</td>\n",
       "      <td>1</td>\n",
       "      <td>640</td>\n",
       "      <td>640</td>\n",
       "    </tr>\n",
       "    <tr>\n",
       "      <th>7107</th>\n",
       "      <td>7108</td>\n",
       "      <td>ff5fd9c3c624b7dc_jpg.rf.f0751c9c3aa4519ea3c9d6...</td>\n",
       "      <td>1</td>\n",
       "      <td>640</td>\n",
       "      <td>640</td>\n",
       "    </tr>\n",
       "  </tbody>\n",
       "</table>\n",
       "<p>7108 rows × 5 columns</p>\n",
       "</div>"
      ],
      "text/plain": [
       "      image_id                                          file_name  #bbox  \\\n",
       "0            1  0000a16e4b057580_jpg.rf.00ab48988370f64f5ca8ea...      7   \n",
       "1            2  0000a16e4b057580_jpg.rf.7e6dce029fb67f01eb19aa...      7   \n",
       "2            3  0000a16e4b057580_jpg.rf.bc4d31cdcbe229dd022957...      7   \n",
       "3            4  00020ebf74c4881c_jpg.rf.508192a0a97aa6c4a3b688...      1   \n",
       "4            5  00020ebf74c4881c_jpg.rf.5af192a2254c8ecc4188a2...      1   \n",
       "...        ...                                                ...    ...   \n",
       "7103      7104  ff26ee5c7c27064d_jpg.rf.e68f37ca906de06c7f72de...      1   \n",
       "7104      7105  ff4cd45896de38be_jpg.rf.c4b5e967ca10c7ced3b9e9...      2   \n",
       "7105      7106  ff4cd45896de38be_jpg.rf.ea4c1d37d2884b3e3cbce0...      2   \n",
       "7106      7107  ff5fd9c3c624b7dc_jpg.rf.bb519feaa36fc4bf630a03...      1   \n",
       "7107      7108  ff5fd9c3c624b7dc_jpg.rf.f0751c9c3aa4519ea3c9d6...      1   \n",
       "\n",
       "      width  height  \n",
       "0       640     640  \n",
       "1       640     640  \n",
       "2       640     640  \n",
       "3       640     640  \n",
       "4       640     640  \n",
       "...     ...     ...  \n",
       "7103    640     640  \n",
       "7104    640     640  \n",
       "7105    640     640  \n",
       "7106    640     640  \n",
       "7107    640     640  \n",
       "\n",
       "[7108 rows x 5 columns]"
      ]
     },
     "execution_count": 22,
     "metadata": {},
     "output_type": "execute_result"
    }
   ],
   "source": [
    "df"
   ]
  },
  {
   "cell_type": "code",
   "execution_count": 23,
   "metadata": {},
   "outputs": [],
   "source": [
    "def has_unique_value(arr):\n",
    "    '''\n",
    "    This function will check if there is at least one value in a column differ from others\n",
    "    Arg:\n",
    "        arr: series, arr\n",
    "    Return: True if there is else return False\n",
    "    '''\n",
    "    first_element = arr[0]\n",
    "    for element in arr:\n",
    "        if element != first_element:\n",
    "            return True\n",
    "    return False"
   ]
  },
  {
   "cell_type": "code",
   "execution_count": 24,
   "metadata": {},
   "outputs": [
    {
     "name": "stdout",
     "output_type": "stream",
     "text": [
      "False\n",
      "False\n"
     ]
    }
   ],
   "source": [
    "print(has_unique_value(df['width']))\n",
    "print(has_unique_value(df['height']))"
   ]
  },
  {
   "cell_type": "code",
   "execution_count": 25,
   "metadata": {},
   "outputs": [],
   "source": [
    "# Group the DataFrame by '#bbox' and count the number of unique 'image_id' values in each group\n",
    "grouped_df = df.groupby('#bbox')['image_id'].nunique().reset_index()\n",
    "\n",
    "# Rename the columns to '#bbox' and '#images'\n",
    "grouped_df.columns = ['#bbox', '#images']"
   ]
  },
  {
   "cell_type": "code",
   "execution_count": 28,
   "metadata": {},
   "outputs": [
    {
     "data": {
      "text/plain": [
       "<Axes: xlabel='#bbox', ylabel='#images'>"
      ]
     },
     "execution_count": 28,
     "metadata": {},
     "output_type": "execute_result"
    },
    {
     "data": {
      "image/png": "[encoded data removed]",
      "text/plain": [
       "<Figure size 1200x500 with 1 Axes>"
      ]
     },
     "metadata": {},
     "output_type": "display_data"
    }
   ],
   "source": [
    "plt.figure(figsize=(12,5))\n",
    "sns.barplot(data=grouped_df, x='#bbox', y='#images')"
   ]
  },
  {
   "cell_type": "code",
   "execution_count": null,
   "metadata": {},
   "outputs": [],
   "source": []
  }
 ],
 "metadata": {
  "kernelspec": {
   "display_name": "ecommerce",
   "language": "python",
   "name": "python3"
  },
  "language_info": {
   "codemirror_mode": {
    "name": "ipython",
    "version": 3
   },
   "file_extension": ".py",
   "mimetype": "text/x-python",
   "name": "python",
   "nbconvert_exporter": "python",
   "pygments_lexer": "ipython3",
   "version": "3.11.9"
  }
 },
 "nbformat": 4,
 "nbformat_minor": 2
}
